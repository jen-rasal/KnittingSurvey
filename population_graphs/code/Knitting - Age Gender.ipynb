{
 "cells": [
  {
   "cell_type": "code",
   "execution_count": 1,
   "id": "b62df14e",
   "metadata": {},
   "outputs": [],
   "source": [
    "import pandas as pd\n",
    "df = pd.read_excel (r'C:\\Users\\jennifer.rasal\\OneDrive - Marine Stewardship Council\\Documents\\Kaggle\\knitting\\test_results.xlsx')"
   ]
  },
  {
   "cell_type": "code",
   "execution_count": 3,
   "id": "00c70eb4",
   "metadata": {},
   "outputs": [
    {
     "name": "stdout",
     "output_type": "stream",
     "text": [
      "Timestamp\n",
      "Who taught YOU to knit? Tick all that apply [Parent]\n",
      "Who taught YOU to knit? Tick all that apply [Sibling]\n",
      "Who taught YOU to knit? Tick all that apply [Grandparent]\n",
      "Who taught YOU to knit? Tick all that apply [Aunt/Uncle]\n",
      "Who taught YOU to knit? Tick all that apply [Spouse]\n",
      "Who taught YOU to knit? Tick all that apply [Friend]\n",
      "Who taught YOU to knit? Tick all that apply [Friend's parent]\n",
      "Who taught YOU to knit? Tick all that apply [School teacher]\n",
      "Who taught YOU to knit? Tick all that apply [Self taught (includes using Youtube or Books to teach yourself)]\n",
      "Who taught YOU to knit? Tick all that apply [Step parent]\n",
      "Who taught YOU to knit? Tick all that apply [Children]\n",
      "Who taught YOU to knit? Tick all that apply [Step children]\n",
      "Who taught YOU to knit? Tick all that apply [Knitting Teacher]\n",
      "How old were you when you learnt how to knit?\n",
      "Have you taught anyone else to knit (or tried to teach)? Tick all that apply [Parent]\n",
      "Have you taught anyone else to knit (or tried to teach)? Tick all that apply [Sibling]\n",
      "Have you taught anyone else to knit (or tried to teach)? Tick all that apply [Grandparent]\n",
      "Have you taught anyone else to knit (or tried to teach)? Tick all that apply [Aunt/Uncle]\n",
      "Have you taught anyone else to knit (or tried to teach)? Tick all that apply [Spouse]\n",
      "Have you taught anyone else to knit (or tried to teach)? Tick all that apply [Friend]\n",
      "Have you taught anyone else to knit (or tried to teach)? Tick all that apply [Friend's parent]\n",
      "Have you taught anyone else to knit (or tried to teach)? Tick all that apply [School teacher]\n",
      "Have you taught anyone else to knit (or tried to teach)? Tick all that apply [Step parent]\n",
      "Have you taught anyone else to knit (or tried to teach)? Tick all that apply [Children]\n",
      "Have you taught anyone else to knit (or tried to teach)? Tick all that apply [Step children]\n",
      "Have you taught anyone else to knit (or tried to teach)? Tick all that apply [Nobody]\n",
      "How open are you with people that you knit? Tick all that apply to you\n",
      "If you wanted to learn a new knitting technique where would be the first place you would go to learn it?\n",
      "What type of knitting do you prefer to use?\n",
      "What term do you use when you have to undo your knitting?\n",
      "Have you tried arm knitting?\n",
      "How often do you knit?\n",
      "Approximately how many hours each week do you spend knitting (when you have a project)?\n",
      "Why do you knit?\n",
      "If you are happy sharing please indicate if you suffer from any of the following conditions and whether or not knitting relieves you of that condition? Tick all that apply [Anxiety]\n",
      "If you are happy sharing please indicate if you suffer from any of the following conditions and whether or not knitting relieves you of that condition? Tick all that apply [Depression]\n",
      "If you are happy sharing please indicate if you suffer from any of the following conditions and whether or not knitting relieves you of that condition? Tick all that apply [High Blood Pressure]\n",
      "If you are happy sharing please indicate if you suffer from any of the following conditions and whether or not knitting relieves you of that condition? Tick all that apply [Stress]\n",
      "If you are happy sharing please indicate if you suffer from any of the following conditions and whether or not knitting relieves you of that condition? Tick all that apply [Boredom]\n",
      "If you are happy sharing please indicate if you suffer from any of the following conditions and whether or not knitting relieves you of that condition? Tick all that apply [Dementia]\n",
      "If you are happy sharing please indicate if you suffer from any of the following conditions and whether or not knitting relieves you of that condition? Tick all that apply [Chronic Pain]\n",
      "If you are happy sharing please indicate if you suffer from any of the following conditions and whether or not knitting relieves you of that condition? Tick all that apply [Panic Attacks]\n",
      "If you are happy sharing please indicate if you suffer from any of the following conditions and whether or not knitting relieves you of that condition? Tick all that apply [Seizures]\n",
      "If you are happy sharing please indicate if you suffer from any of the following conditions and whether or not knitting relieves you of that condition? Tick all that apply [OCD]\n",
      "Have you or anyone around you ever been injured or suffered from the side effects of your knitting? e.g. RSI, accidental stabbing from needles, sleep problems\n",
      "Where do you knit? Tick all that apply\n",
      "Have you ever knitted on a plane?\n",
      "Do you use any of these to inspire your knitting? Tick as many as applicable\n",
      "What is your favourite thing to knit?\n",
      "How many unfinished projects do you have on the go right now?\n",
      "Have you ever taken part in a charity knitting event? (if no please skip the next 3 questions)\n",
      "What charity benefited?\n",
      "How large scale was the charity knitting event?\n",
      "What activities made up the knitting event? What else would you like to say about the charity knitting event?\n",
      "If you use any knitting apps please list them below:\n",
      "Do you do any other crafts? Tick all that apply\n",
      "Where do you prefer to buy your yarn? (Feel free to add more under Others)\n",
      "What is your favourite type of yarn? (Feel free to add more under Others)\n",
      "Please estimate how much you would pay for a 50% wool 50% Acrylic 100g ball of yarn? (GDP/EUR/USD)\n",
      "Do you favour thicker or thinner needles?\n",
      "Which needle shape do you prefer?\n",
      "What material do you prefer for your needles?\n",
      "Have you inherited any knitting needles from anyone? Tick as many as applicable [Parent]\n",
      "Have you inherited any knitting needles from anyone? Tick as many as applicable [Sibiling]\n",
      "Have you inherited any knitting needles from anyone? Tick as many as applicable [Grandparent]\n",
      "Have you inherited any knitting needles from anyone? Tick as many as applicable [Aunt/Uncle]\n",
      "Have you inherited any knitting needles from anyone? Tick as many as applicable [Children]\n",
      "Have you inherited any knitting needles from anyone? Tick as many as applicable [Step Parent]\n",
      "Have you inherited any knitting needles from anyone? Tick as many as applicable [Step children]\n",
      "Have you inherited any knitting needles from anyone? Tick as many as applicable [School Teacher]\n",
      "Have you inherited any knitting needles from anyone? Tick as many as applicable [Friend]\n",
      "Have you inherited any knitting needles from anyone? Tick as many as applicable [Friend's Parents]\n",
      "Have you inherited any knitting needles from anyone? Tick as many as applicable [Spouse]\n",
      "Have you inherited any knitting needles from anyone? Tick as many as applicable [Knitting Teacher]\n",
      "What type of stitch pattern would you most like to do right now?\n",
      "How do you approach patterns? Tick as many as apply to you\n",
      "Which type of pattern do you prefer?\n",
      "When knitting do you prefer to use paper patterns or digital patterns?\n",
      "Where do you get your patterns from? Tick all that apply\n",
      "How much would you pay for a pattern on average?\n",
      "What is your gender?\n",
      "How old are you in years?\n",
      "What country do you live in?\n",
      "Latitude\n",
      "Longitude\n",
      "What is your ethnicity?\n",
      "What's your work status\n",
      "What is your household income bracket?\n",
      "Are you disabled? If yes please name your disability or write \"Yes but prefer not to say\" if you wish to not share that information\n",
      "What is the highest level of education that you hold?\n",
      "Please rate the following statements to show how much you agree or disagree. [I love maths]\n",
      "Please rate the following statements to show how much you agree or disagree. [I am good at maths]\n",
      "Please rate the following statements to show how much you agree or disagree. [I was good at maths in school]\n",
      "Please rate the following statements to show how much you agree or disagree. [I use maths when I am knitting]\n",
      "Please rate the following statements to show how much you agree or disagree. [Maths knowledge helps with my knitting]\n",
      "Please rate the following statements to show how much you agree or disagree. [I never thought of maths and knitting as being connected]\n",
      "What is the highest qualification and grade you achieved in Maths?\n",
      "How would you rate your personality on a scale of introverted to extroverted? (Traits of an introvert include: preferring time alone, feeling drained from social interactions, very internal thinkers choosing to think before taking action. Traits of an extrovert include: Not liking to be alone, thriving around people, outgoing, preferring to talk thoughts out rather than write them, large circles of friends.)\n",
      "Please enter your name or leave blank if you would like to be anonymous.\n",
      "What is your email?\n",
      "What would you like to be contacted about?\n",
      "This is the end of the survey, is there anything else you would like to tell us about, talk about or ideas you might have about the project?\n"
     ]
    }
   ],
   "source": [
    "for col in df.columns:\n",
    "    print(col)"
   ]
  },
  {
   "cell_type": "code",
   "execution_count": 5,
   "id": "a25a968b",
   "metadata": {},
   "outputs": [
    {
     "data": {
      "text/plain": [
       "(<Figure size 432x288 with 3 Axes>,\n",
       " {('I would rather not say',): (0.0, 0.0, 0.3650026838432635, 1.0),\n",
       "  ('£50,000-£59,999 / €58,800-€70,400 / $69,400-$83,200',): (0.3698336017176596,\n",
       "   0.0,\n",
       "   0.08588298443370908,\n",
       "   1.0),\n",
       "  ('£40,000-£49,999 / €47,000-€58,700 / $55,500-$69,300',): (0.46054750402576483,\n",
       "   0.0,\n",
       "   0.08588298443370908,\n",
       "   1.0),\n",
       "  ('£30,000-£39,999 / €35,300-€46,900 / $41,600-$55,400',): (0.5512614063338701,\n",
       "   0.0,\n",
       "   0.06870638754696726,\n",
       "   1.0),\n",
       "  ('<£19,999 / <€23,500 / <$27,700',): (0.6247987117552335,\n",
       "   0.0,\n",
       "   0.08588298443370897,\n",
       "   1.0),\n",
       "  ('£20,000-£29,999 / €23,500-€35,200 / $27,800-$41,500',): (0.7155126140633385,\n",
       "   0.0,\n",
       "   0.07514761137949548,\n",
       "   1.0),\n",
       "  ('£70,000+ / €23,500+ / $97,100+',): (0.7954911433172301,\n",
       "   0.0,\n",
       "   0.15029522275899085,\n",
       "   1.0),\n",
       "  ('£60,000-£69,999 / €70,500-€82,200 / $83,300-$97,000',): (0.9506172839506172,\n",
       "   0.0,\n",
       "   0.049382716049382706,\n",
       "   1.0)})"
      ]
     },
     "execution_count": 5,
     "metadata": {},
     "output_type": "execute_result"
    },
    {
     "data": {
      "image/png": "[encoded data removed]",
      "text/plain": [
       "<Figure size 432x288 with 3 Axes>"
      ]
     },
     "metadata": {
      "needs_background": "light"
     },
     "output_type": "display_data"
    }
   ],
   "source": [
    "from statsmodels.graphics.mosaicplot import mosaic\n",
    "\n",
    "mosaic(df,['What is your household income bracket?'])"
   ]
  },
  {
   "cell_type": "code",
   "execution_count": 7,
   "id": "d141bac5",
   "metadata": {},
   "outputs": [
    {
     "data": {
      "text/html": [
       "<div>\n",
       "<style scoped>\n",
       "    .dataframe tbody tr th:only-of-type {\n",
       "        vertical-align: middle;\n",
       "    }\n",
       "\n",
       "    .dataframe tbody tr th {\n",
       "        vertical-align: top;\n",
       "    }\n",
       "\n",
       "    .dataframe thead th {\n",
       "        text-align: right;\n",
       "    }\n",
       "</style>\n",
       "<table border=\"1\" class=\"dataframe\">\n",
       "  <thead>\n",
       "    <tr style=\"text-align: right;\">\n",
       "      <th>What is your gender?</th>\n",
       "      <th>Female</th>\n",
       "      <th>Male</th>\n",
       "      <th>Non binary</th>\n",
       "      <th>Queer</th>\n",
       "      <th>non-binary</th>\n",
       "    </tr>\n",
       "    <tr>\n",
       "      <th>What is your household income bracket?</th>\n",
       "      <th></th>\n",
       "      <th></th>\n",
       "      <th></th>\n",
       "      <th></th>\n",
       "      <th></th>\n",
       "    </tr>\n",
       "  </thead>\n",
       "  <tbody>\n",
       "    <tr>\n",
       "      <th>&lt;£19,999 / &lt;€23,500 / &lt;$27,700</th>\n",
       "      <td>38</td>\n",
       "      <td>2</td>\n",
       "      <td>0</td>\n",
       "      <td>0</td>\n",
       "      <td>0</td>\n",
       "    </tr>\n",
       "    <tr>\n",
       "      <th>I would rather not say</th>\n",
       "      <td>169</td>\n",
       "      <td>0</td>\n",
       "      <td>0</td>\n",
       "      <td>0</td>\n",
       "      <td>0</td>\n",
       "    </tr>\n",
       "    <tr>\n",
       "      <th>£20,000-£29,999 / €23,500-€35,200 / $27,800-$41,500</th>\n",
       "      <td>34</td>\n",
       "      <td>0</td>\n",
       "      <td>0</td>\n",
       "      <td>0</td>\n",
       "      <td>1</td>\n",
       "    </tr>\n",
       "    <tr>\n",
       "      <th>£30,000-£39,999 / €35,300-€46,900 / $41,600-$55,400</th>\n",
       "      <td>31</td>\n",
       "      <td>0</td>\n",
       "      <td>0</td>\n",
       "      <td>1</td>\n",
       "      <td>0</td>\n",
       "    </tr>\n",
       "    <tr>\n",
       "      <th>£40,000-£49,999 / €47,000-€58,700 / $55,500-$69,300</th>\n",
       "      <td>40</td>\n",
       "      <td>0</td>\n",
       "      <td>0</td>\n",
       "      <td>0</td>\n",
       "      <td>0</td>\n",
       "    </tr>\n",
       "    <tr>\n",
       "      <th>£50,000-£59,999 / €58,800-€70,400 / $69,400-$83,200</th>\n",
       "      <td>38</td>\n",
       "      <td>1</td>\n",
       "      <td>1</td>\n",
       "      <td>0</td>\n",
       "      <td>0</td>\n",
       "    </tr>\n",
       "    <tr>\n",
       "      <th>£60,000-£69,999 / €70,500-€82,200 / $83,300-$97,000</th>\n",
       "      <td>21</td>\n",
       "      <td>0</td>\n",
       "      <td>1</td>\n",
       "      <td>0</td>\n",
       "      <td>0</td>\n",
       "    </tr>\n",
       "    <tr>\n",
       "      <th>£70,000+ / €23,500+ / $97,100+</th>\n",
       "      <td>68</td>\n",
       "      <td>1</td>\n",
       "      <td>0</td>\n",
       "      <td>0</td>\n",
       "      <td>0</td>\n",
       "    </tr>\n",
       "  </tbody>\n",
       "</table>\n",
       "</div>"
      ],
      "text/plain": [
       "What is your gender?                                Female  Male  Non binary  \\\n",
       "What is your household income bracket?                                         \n",
       "<£19,999 / <€23,500 / <$27,700                          38     2           0   \n",
       "I would rather not say                                 169     0           0   \n",
       "£20,000-£29,999 / €23,500-€35,200 / $27,800-$41...      34     0           0   \n",
       "£30,000-£39,999 / €35,300-€46,900 / $41,600-$55...      31     0           0   \n",
       "£40,000-£49,999 / €47,000-€58,700 / $55,500-$69...      40     0           0   \n",
       "£50,000-£59,999 / €58,800-€70,400 / $69,400-$83...      38     1           1   \n",
       "£60,000-£69,999 / €70,500-€82,200 / $83,300-$97...      21     0           1   \n",
       "£70,000+ / €23,500+ / $97,100+                          68     1           0   \n",
       "\n",
       "What is your gender?                                Queer  non-binary  \n",
       "What is your household income bracket?                                 \n",
       "<£19,999 / <€23,500 / <$27,700                          0           0  \n",
       "I would rather not say                                  0           0  \n",
       "£20,000-£29,999 / €23,500-€35,200 / $27,800-$41...      0           1  \n",
       "£30,000-£39,999 / €35,300-€46,900 / $41,600-$55...      1           0  \n",
       "£40,000-£49,999 / €47,000-€58,700 / $55,500-$69...      0           0  \n",
       "£50,000-£59,999 / €58,800-€70,400 / $69,400-$83...      0           0  \n",
       "£60,000-£69,999 / €70,500-€82,200 / $83,300-$97...      0           0  \n",
       "£70,000+ / €23,500+ / $97,100+                          0           0  "
      ]
     },
     "execution_count": 7,
     "metadata": {},
     "output_type": "execute_result"
    }
   ],
   "source": [
    "crosstable=pd.crosstab(df['What is your household income bracket?'], df[\"What is your gender?\"])\n",
    "crosstable"
   ]
  },
  {
   "cell_type": "code",
   "execution_count": 16,
   "id": "940111ed",
   "metadata": {},
   "outputs": [
    {
     "data": {
      "image/png": "[encoded data removed]",
      "text/plain": [
       "<Figure size 460.8x345.6 with 1 Axes>"
      ]
     },
     "metadata": {
      "needs_background": "light"
     },
     "output_type": "display_data"
    }
   ],
   "source": [
    "money = df[\"What is your household income bracket?\"].value_counts()\n",
    "money = money.to_dict()\n",
    "del money[\"I would rather not say\"]\n",
    "\n",
    "import collections\n",
    "import matplotlib.pyplot as plt\n",
    "\n",
    "od = collections.OrderedDict(sorted(money.items()))\n",
    "\n",
    "names = list(od.keys())\n",
    "money_range = []\n",
    "for name in names:\n",
    "    split_string = name.split(\"/\", 1)\n",
    "    money_range.append(split_string[0])\n",
    "values = list(od.values())\n",
    "#names.append(names.pop(names.index(names[0])))\n",
    "#values.append(values.pop(values.index(values[0])))\n",
    "\n",
    "from matplotlib.pyplot import figure\n",
    "\n",
    "plt.barh(range(len(od)), values, tick_label=money_range)\n",
    "plt.xticks(rotation=45)\n",
    "plt.xlabel(\"Number of participants\")\n",
    "plt.ylabel(\"Household income bracket\")\n",
    "plt.savefig('knitting_household_income.png', bbox_inches='tight')\n",
    "plt.show()"
   ]
  },
  {
   "cell_type": "code",
   "execution_count": 19,
   "id": "ccb930ca",
   "metadata": {},
   "outputs": [
    {
     "data": {
      "text/plain": [
       "[['<£19,999 ', ' <€23,500 / <$27,700'],\n",
       " ['£20,000-£29,999 ', ' €23,500-€35,200 / $27,800-$41,500'],\n",
       " ['£30,000-£39,999 ', ' €35,300-€46,900 / $41,600-$55,400'],\n",
       " ['£40,000-£49,999 ', ' €47,000-€58,700 / $55,500-$69,300'],\n",
       " ['£50,000-£59,999 ', ' €58,800-€70,400 / $69,400-$83,200'],\n",
       " ['£60,000-£69,999 ', ' €70,500-€82,200 / $83,300-$97,000'],\n",
       " ['£70,000+ ', ' €23,500+ / $97,100+']]"
      ]
     },
     "execution_count": 19,
     "metadata": {},
     "output_type": "execute_result"
    }
   ],
   "source": [
    "money_range"
   ]
  },
  {
   "cell_type": "markdown",
   "id": "79b5c814",
   "metadata": {},
   "source": [
    "# Age"
   ]
  },
  {
   "cell_type": "code",
   "execution_count": 12,
   "id": "0523c27e",
   "metadata": {},
   "outputs": [],
   "source": [
    "age = df[\"How old are you in years?\"].value_counts()\n",
    "age = age.to_dict()"
   ]
  },
  {
   "cell_type": "code",
   "execution_count": 14,
   "id": "5d90545b",
   "metadata": {},
   "outputs": [
    {
     "data": {
      "image/png": "[encoded data removed]",
      "text/plain": [
       "<Figure size 460.8x345.6 with 1 Axes>"
      ]
     },
     "metadata": {
      "needs_background": "light"
     },
     "output_type": "display_data"
    }
   ],
   "source": [
    "import collections\n",
    "\n",
    "od = collections.OrderedDict(sorted(age.items()))\n",
    "\n",
    "names = list(od.keys())\n",
    "values = list(od.values())\n",
    "names.append(names.pop(names.index(names[0])))\n",
    "values.append(values.pop(values.index(values[0])))\n",
    "\n",
    "plt.bar(range(len(od)), values, tick_label=names)\n",
    "plt.xticks(rotation=45)\n",
    "plt.xlabel(\"Age range\")\n",
    "plt.ylabel(\"Number of participants\")\n",
    "plt.savefig('knitting_age.png', bbox_inches='tight')\n",
    "plt.show()"
   ]
  },
  {
   "cell_type": "code",
   "execution_count": 118,
   "id": "d39bded8",
   "metadata": {},
   "outputs": [
    {
     "data": {
      "text/plain": [
       "Female    456\n",
       "Other       7\n",
       "Male        4\n",
       "Name: gender, dtype: int64"
      ]
     },
     "execution_count": 118,
     "metadata": {},
     "output_type": "execute_result"
    }
   ],
   "source": [
    "import numpy as np\n",
    "df = df.rename(columns={\"What is your gender?\": \"gender\"})\n",
    "df['gender'] = np.where((df.gender != 'Male') & (df.gender != 'Female'),'Other',df.gender)\n",
    "gender = df[\"gender\"].value_counts()\n",
    "gender"
   ]
  },
  {
   "cell_type": "code",
   "execution_count": 119,
   "id": "806234d9",
   "metadata": {},
   "outputs": [],
   "source": [
    "df_gender = gender.to_frame()"
   ]
  },
  {
   "cell_type": "code",
   "execution_count": 120,
   "id": "3f56e404",
   "metadata": {},
   "outputs": [
    {
     "data": {
      "text/plain": [
       "<Figure size 432x288 with 0 Axes>"
      ]
     },
     "metadata": {},
     "output_type": "display_data"
    },
    {
     "data": {
      "image/png": "[encoded data removed]",
      "text/plain": [
       "<Figure size 288x288 with 1 Axes>"
      ]
     },
     "metadata": {},
     "output_type": "display_data"
    }
   ],
   "source": [
    "import matplotlib.patches as mpatches\n",
    "\n",
    "fig = plt.figure()\n",
    "colormap = plt.cm.PiYG\n",
    "plt.matshow(waffle, cmap=colormap)\n",
    "ax = plt.gca()\n",
    "ax.set_xticks(np.arange(-0.5, (width), 1), minor=True)\n",
    "ax.set_yticks(np.arange(-0.5, (height), 1), minor=True)\n",
    "ax.grid(which='minor', color='w', linestyle='-', linewidth=2)\n",
    "plt.xticks([])\n",
    "plt.yticks([])\n",
    "values = df_gender['gender']\n",
    "categories = df_gender.index\n",
    "value_sign = ''\n",
    "values_cumsum = np.cumsum(values)\n",
    "total_values = values_cumsum[len(values_cumsum) - 1]\n",
    "legend_handles = []\n",
    "colour_values = {\"Female\": \"#9c1550\", \"Male\": \"green\", \"Other\": \"white\"}\n",
    "for i, category in enumerate(categories):\n",
    "    label_str = category + ' (' + value_sign + str(values[i]) + ')'\n",
    "    color_val = colour_values[category]\n",
    "    legend_handles.append(mpatches.Patch(color=color_val, label=label_str))\n",
    "    \n",
    "plt.legend(handles=legend_handles, loc = 'upper left',\n",
    "          bbox_to_anchor=(0.1, 0.2, 0.95, 0.7)) #positioning legends\n",
    "\n",
    "plt.savefig('knitting_gender.png')"
   ]
  },
  {
   "cell_type": "code",
   "execution_count": 92,
   "id": "ab899c25",
   "metadata": {},
   "outputs": [
    {
     "ename": "TypeError",
     "evalue": "'Series' object cannot be interpreted as an integer",
     "output_type": "error",
     "traceback": [
      "\u001b[1;31m---------------------------------------------------------------------------\u001b[0m",
      "\u001b[1;31mTypeError\u001b[0m                                 Traceback (most recent call last)",
      "\u001b[1;32mC:\\Users\\JENNIF~1.RAS\\AppData\\Local\\Temp/ipykernel_22068/389036557.py\u001b[0m in \u001b[0;36m<module>\u001b[1;34m\u001b[0m\n\u001b[0;32m      8\u001b[0m     \u001b[0mrows\u001b[0m \u001b[1;33m=\u001b[0m \u001b[1;33m[\u001b[0m\u001b[1;33m]\u001b[0m\u001b[1;33m\u001b[0m\u001b[1;33m\u001b[0m\u001b[0m\n\u001b[0;32m      9\u001b[0m     \u001b[0mcolumns\u001b[0m \u001b[1;33m=\u001b[0m \u001b[1;33m[\u001b[0m\u001b[1;33m]\u001b[0m\u001b[1;33m\u001b[0m\u001b[1;33m\u001b[0m\u001b[0m\n\u001b[1;32m---> 10\u001b[1;33m     \u001b[1;32mfor\u001b[0m \u001b[0m_\u001b[0m \u001b[1;32min\u001b[0m \u001b[0mrange\u001b[0m\u001b[1;33m(\u001b[0m\u001b[0mcount\u001b[0m\u001b[1;33m)\u001b[0m\u001b[1;33m:\u001b[0m\u001b[1;33m\u001b[0m\u001b[1;33m\u001b[0m\u001b[0m\n\u001b[0m\u001b[0;32m     11\u001b[0m         \u001b[1;32mif\u001b[0m \u001b[0mrow\u001b[0m \u001b[1;33m==\u001b[0m \u001b[0mnum_rows\u001b[0m\u001b[1;33m:\u001b[0m\u001b[1;33m\u001b[0m\u001b[1;33m\u001b[0m\u001b[0m\n\u001b[0;32m     12\u001b[0m             \u001b[0mrow\u001b[0m \u001b[1;33m=\u001b[0m \u001b[1;36m0\u001b[0m\u001b[1;33m\u001b[0m\u001b[1;33m\u001b[0m\u001b[0m\n",
      "\u001b[1;31mTypeError\u001b[0m: 'Series' object cannot be interpreted as an integer"
     ]
    }
   ],
   "source": [
    "num_rows = 10\n",
    "row = 0\n",
    "column = 0\n",
    "data = []\n",
    "colors_list = ['slateblue', 'limegreen', 'red']\n",
    "colors = {df_gender.index[i]:colors_list[i] for i in range(len(df_gender))}\n",
    "for category, count in df_gender.iteritems():\n",
    "    rows = []\n",
    "    columns = []\n",
    "    for _ in range(count):\n",
    "        if row == num_rows:\n",
    "            row = 0\n",
    "            column += 1\n",
    "        rows.append(row)\n",
    "        columns.append(column)        \n",
    "        row += 1\n",
    "    data.append(go.Scatter(x=rows, y=columns, mode='markers', \n",
    "                           marker={'color': colors[category], 'symbol': 'star', 'size': 20},                        \n",
    "                           name=category))\n",
    "fig = go.Figure(dict(data=data, layout=go.Layout(plot_bgcolor='white',\n",
    "                                                 xaxis=dict(visible=False), \n",
    "                                                 yaxis=dict(visible=False))))\n",
    "fig.update_layout(title='User dynamics in July 2021', title_x=0.45, title_y=0.85, font=dict(size=18))\n",
    "fig.show()"
   ]
  },
  {
   "cell_type": "code",
   "execution_count": 93,
   "id": "60aa2659",
   "metadata": {},
   "outputs": [
    {
     "data": {
      "text/html": [
       "<div>\n",
       "<style scoped>\n",
       "    .dataframe tbody tr th:only-of-type {\n",
       "        vertical-align: middle;\n",
       "    }\n",
       "\n",
       "    .dataframe tbody tr th {\n",
       "        vertical-align: top;\n",
       "    }\n",
       "\n",
       "    .dataframe thead th {\n",
       "        text-align: right;\n",
       "    }\n",
       "</style>\n",
       "<table border=\"1\" class=\"dataframe\">\n",
       "  <thead>\n",
       "    <tr style=\"text-align: right;\">\n",
       "      <th></th>\n",
       "      <th>gender</th>\n",
       "      <th>percent</th>\n",
       "    </tr>\n",
       "  </thead>\n",
       "  <tbody>\n",
       "    <tr>\n",
       "      <th>Female</th>\n",
       "      <td>456</td>\n",
       "      <td>0.976445</td>\n",
       "    </tr>\n",
       "    <tr>\n",
       "      <th>Other</th>\n",
       "      <td>7</td>\n",
       "      <td>0.014989</td>\n",
       "    </tr>\n",
       "    <tr>\n",
       "      <th>Male</th>\n",
       "      <td>4</td>\n",
       "      <td>0.008565</td>\n",
       "    </tr>\n",
       "  </tbody>\n",
       "</table>\n",
       "</div>"
      ],
      "text/plain": [
       "        gender   percent\n",
       "Female     456  0.976445\n",
       "Other        7  0.014989\n",
       "Male         4  0.008565"
      ]
     },
     "execution_count": 93,
     "metadata": {},
     "output_type": "execute_result"
    }
   ],
   "source": [
    "df_gender"
   ]
  },
  {
   "cell_type": "code",
   "execution_count": 96,
   "id": "d34c342c",
   "metadata": {},
   "outputs": [
    {
     "ename": "TypeError",
     "evalue": "'Series' object cannot be interpreted as an integer",
     "output_type": "error",
     "traceback": [
      "\u001b[1;31m---------------------------------------------------------------------------\u001b[0m",
      "\u001b[1;31mTypeError\u001b[0m                                 Traceback (most recent call last)",
      "\u001b[1;32mC:\\Users\\JENNIF~1.RAS\\AppData\\Local\\Temp/ipykernel_22068/3579944318.py\u001b[0m in \u001b[0;36m<module>\u001b[1;34m\u001b[0m\n\u001b[1;32m----> 1\u001b[1;33m \u001b[0mrange\u001b[0m\u001b[1;33m(\u001b[0m\u001b[0mcount\u001b[0m\u001b[1;33m)\u001b[0m\u001b[1;33m\u001b[0m\u001b[1;33m\u001b[0m\u001b[0m\n\u001b[0m",
      "\u001b[1;31mTypeError\u001b[0m: 'Series' object cannot be interpreted as an integer"
     ]
    }
   ],
   "source": [
    "range(count)"
   ]
  },
  {
   "cell_type": "code",
   "execution_count": 70,
   "id": "d3d0a2ae",
   "metadata": {},
   "outputs": [
    {
     "data": {
      "text/plain": [
       "456"
      ]
     },
     "execution_count": 70,
     "metadata": {},
     "output_type": "execute_result"
    }
   ],
   "source": [
    "values_cumsum[i]"
   ]
  },
  {
   "cell_type": "code",
   "execution_count": 72,
   "id": "f24d9a0b",
   "metadata": {},
   "outputs": [
    {
     "data": {
      "text/plain": [
       "(0.23437707945098038, 0.3055417303294118, 0.7596795275882353, 1.0)"
      ]
     },
     "execution_count": 72,
     "metadata": {},
     "output_type": "execute_result"
    }
   ],
   "source": [
    "colormap(1)"
   ]
  },
  {
   "cell_type": "code",
   "execution_count": 22,
   "id": "48e50f14",
   "metadata": {},
   "outputs": [],
   "source": [
    "import flask"
   ]
  },
  {
   "cell_type": "code",
   "execution_count": 23,
   "id": "a147a746",
   "metadata": {},
   "outputs": [],
   "source": [
    "app = flask.Flask(__name__, static_url_path='',\n",
    "            static_folder='static',\n",
    "            template_folder='template')\n",
    "app.config[\"DEBUG\"] = True"
   ]
  },
  {
   "cell_type": "code",
   "execution_count": 24,
   "id": "a83295b3",
   "metadata": {},
   "outputs": [],
   "source": [
    "from flask import render_template, redirect, url_for\n",
    "\n",
    "@app.route(\"/home\")\n",
    "def home():\n",
    "    return render_template(\"home.html\")\n",
    "@app.route(\"/<name>\")\n",
    "def user(name):\n",
    "    return f\"Hello-- {name}!\"\n",
    "@app.route(\"/admin\")\n",
    "def admin():\n",
    "    return redirect(url_for(\"home\"))"
   ]
  },
  {
   "cell_type": "code",
   "execution_count": 25,
   "id": "1cb16fc6",
   "metadata": {},
   "outputs": [
    {
     "name": "stdout",
     "output_type": "stream",
     "text": [
      " * Serving Flask app \"__main__\" (lazy loading)\n",
      " * Environment: production\n",
      "   WARNING: This is a development server. Do not use it in a production deployment.\n",
      "   Use a production WSGI server instead.\n",
      " * Debug mode: on\n"
     ]
    },
    {
     "name": "stderr",
     "output_type": "stream",
     "text": [
      " * Restarting with watchdog (windowsapi)\n"
     ]
    },
    {
     "ename": "SystemExit",
     "evalue": "1",
     "output_type": "error",
     "traceback": [
      "An exception has occurred, use %tb to see the full traceback.\n",
      "\u001b[1;31mSystemExit\u001b[0m\u001b[1;31m:\u001b[0m 1\n"
     ]
    },
    {
     "name": "stderr",
     "output_type": "stream",
     "text": [
      "C:\\Users\\jennifer.rasal\\AppData\\Local\\Continuum\\anaconda3\\lib\\site-packages\\IPython\\core\\interactiveshell.py:3452: UserWarning: To exit: use 'exit', 'quit', or Ctrl-D.\n",
      "  warn(\"To exit: use 'exit', 'quit', or Ctrl-D.\", stacklevel=1)\n"
     ]
    }
   ],
   "source": [
    "if __name__ == '__main__':\n",
    "    app.run(host=\"localhost\", port=8000, debug=True)"
   ]
  },
  {
   "cell_type": "code",
   "execution_count": 26,
   "id": "f4687c83",
   "metadata": {},
   "outputs": [
    {
     "ename": "SyntaxError",
     "evalue": "invalid syntax (Temp/ipykernel_15324/2103582828.py, line 1)",
     "output_type": "error",
     "traceback": [
      "\u001b[1;36m  File \u001b[1;32m\"C:\\Users\\JENNIF~1.RAS\\AppData\\Local\\Temp/ipykernel_15324/2103582828.py\"\u001b[1;36m, line \u001b[1;32m1\u001b[0m\n\u001b[1;33m    <script src=\"https://cdnjs.cloudflare.com/ajax/libs/Chart.js/2.5.0/Chart.min.js\"></script>\u001b[0m\n\u001b[1;37m    ^\u001b[0m\n\u001b[1;31mSyntaxError\u001b[0m\u001b[1;31m:\u001b[0m invalid syntax\n"
     ]
    }
   ],
   "source": [
    "<script src=\"https://cdnjs.cloudflare.com/ajax/libs/Chart.js/2.5.0/Chart.min.js\"></script>"
   ]
  },
  {
   "cell_type": "code",
   "execution_count": null,
   "id": "83f4d5c4",
   "metadata": {},
   "outputs": [],
   "source": []
  }
 ],
 "metadata": {
  "kernelspec": {
   "display_name": "Python 3 (ipykernel)",
   "language": "python",
   "name": "python3"
  },
  "language_info": {
   "codemirror_mode": {
    "name": "ipython",
    "version": 3
   },
   "file_extension": ".py",
   "mimetype": "text/x-python",
   "name": "python",
   "nbconvert_exporter": "python",
   "pygments_lexer": "ipython3",
   "version": "3.7.11"
  }
 },
 "nbformat": 4,
 "nbformat_minor": 5
}
